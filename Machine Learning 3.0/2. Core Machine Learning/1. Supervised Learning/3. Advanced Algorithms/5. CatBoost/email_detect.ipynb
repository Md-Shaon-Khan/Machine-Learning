{
 "cells": [
  {
   "cell_type": "code",
   "execution_count": 4,
   "id": "c2dd885c",
   "metadata": {},
   "outputs": [
    {
     "data": {
      "application/vnd.jupyter.widget-view+json": {
       "model_id": "f25bf0d513084d04be284018d4822f2e",
       "version_major": 2,
       "version_minor": 0
      },
      "text/plain": [
       "MetricVisualizer(layout=Layout(align_self='stretch', height='500px'))"
      ]
     },
     "metadata": {},
     "output_type": "display_data"
    },
    {
     "name": "stdout",
     "output_type": "stream",
     "text": [
      "0:\tlearn: 0.9771147\ttest: 0.9847534\tbest: 0.9847534 (0)\ttotal: 85.7ms\tremaining: 25.6s\n",
      "50:\tlearn: 0.9827238\ttest: 0.9847534\tbest: 0.9847534 (0)\ttotal: 3.85s\tremaining: 18.8s\n",
      "100:\tlearn: 0.9885573\ttest: 0.9847534\tbest: 0.9847534 (0)\ttotal: 7.25s\tremaining: 14.3s\n",
      "150:\tlearn: 0.9948396\ttest: 0.9856502\tbest: 0.9856502 (111)\ttotal: 10.4s\tremaining: 10.2s\n",
      "200:\tlearn: 0.9975320\ttest: 0.9856502\tbest: 0.9856502 (111)\ttotal: 13.3s\tremaining: 6.56s\n",
      "250:\tlearn: 0.9984294\ttest: 0.9856502\tbest: 0.9856502 (111)\ttotal: 16.3s\tremaining: 3.18s\n",
      "299:\tlearn: 0.9984294\ttest: 0.9856502\tbest: 0.9856502 (111)\ttotal: 19.3s\tremaining: 0us\n",
      "\n",
      "bestTest = 0.9856502242\n",
      "bestIteration = 111\n",
      "\n",
      "Shrink model to first 112 iterations.\n",
      "Accuracy: 0.9856502242152466\n",
      "\n",
      "Classification Report:\n",
      "               precision    recall  f1-score   support\n",
      "\n",
      "         0.0       0.98      1.00      0.99       966\n",
      "         1.0       0.99      0.90      0.94       149\n",
      "\n",
      "    accuracy                           0.99      1115\n",
      "   macro avg       0.99      0.95      0.97      1115\n",
      "weighted avg       0.99      0.99      0.99      1115\n",
      "\n"
     ]
    },
    {
     "data": {
      "image/png": "[encoded data removed]",
      "text/plain": [
       "<Figure size 600x400 with 2 Axes>"
      ]
     },
     "metadata": {},
     "output_type": "display_data"
    }
   ],
   "source": [
    "import pandas as pd\n",
    "from sklearn.model_selection import train_test_split\n",
    "from catboost import CatBoostClassifier, Pool\n",
    "from sklearn.metrics import accuracy_score, classification_report, confusion_matrix\n",
    "import matplotlib.pyplot as plt\n",
    "import seaborn as sns\n",
    "\n",
    "data = pd.read_csv(\"email.csv\", encoding='latin-1')\n",
    "data = data[['Category', 'Message']]\n",
    "data['Category'] = data['Category'].map({'ham': 0, 'spam': 1})\n",
    "data = data.dropna(subset=['Category', 'Message'])\n",
    "\n",
    "X_train, X_val, y_train, y_val = train_test_split(\n",
    "    data['Message'], data['Category'], test_size=0.2, random_state=42\n",
    ")\n",
    "\n",
    "X_train = X_train.to_frame(name='Message')\n",
    "X_val = X_val.to_frame(name='Message')\n",
    "\n",
    "train_pool = Pool(X_train, y_train, text_features=['Message'])\n",
    "val_pool = Pool(X_val, y_val, text_features=['Message'])\n",
    "\n",
    "model = CatBoostClassifier(\n",
    "    iterations=300,\n",
    "    learning_rate=0.2,\n",
    "    depth=6,\n",
    "    eval_metric='Accuracy',\n",
    "    random_seed=42,\n",
    "    verbose=50\n",
    ")\n",
    "\n",
    "model.fit(train_pool, eval_set=val_pool, plot=True)\n",
    "y_pred = model.predict(X_val)\n",
    "\n",
    "print(\"Accuracy:\", accuracy_score(y_val, y_pred))\n",
    "print(\"\\nClassification Report:\\n\", classification_report(y_val, y_pred))\n",
    "\n",
    "cm = confusion_matrix(y_val, y_pred)\n",
    "plt.figure(figsize=(6,4))\n",
    "sns.heatmap(cm, annot=True, fmt='d', cmap='Blues', xticklabels=['Ham','Spam'], yticklabels=['Ham','Spam'])\n",
    "plt.title('Confusion Matrix')\n",
    "plt.xlabel('Predicted')\n",
    "plt.ylabel('Actual')\n",
    "plt.show()\n"
   ]
  }
 ],
 "metadata": {
  "kernelspec": {
   "display_name": "Python 3",
   "language": "python",
   "name": "python3"
  },
  "language_info": {
   "codemirror_mode": {
    "name": "ipython",
    "version": 3
   },
   "file_extension": ".py",
   "mimetype": "text/x-python",
   "name": "python",
   "nbconvert_exporter": "python",
   "pygments_lexer": "ipython3",
   "version": "3.13.0"
  }
 },
 "nbformat": 4,
 "nbformat_minor": 5
}
