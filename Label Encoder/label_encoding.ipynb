{
 "cells": [
  {
   "cell_type": "code",
   "execution_count": 1,
   "id": "1e6e4210",
   "metadata": {},
   "outputs": [],
   "source": [
    "classes = ['Shaon','Raunaq','Kuasha','Mahi']\n",
    "instances = ['Raunaq','Shaon','Mahi','Kuasha','Kuasha','Raunaq','Shaon']"
   ]
  },
  {
   "cell_type": "code",
   "execution_count": 2,
   "id": "a4af0b93",
   "metadata": {},
   "outputs": [
    {
     "data": {
      "text/plain": [
       "[1, 0, 3, 2, 2, 1, 0]"
      ]
     },
     "execution_count": 2,
     "metadata": {},
     "output_type": "execute_result"
    }
   ],
   "source": [
    "lable_to_fit = {\n",
    "    label : index for index,label in enumerate(classes)\n",
    "}\n",
    "\n",
    "encoded_labels = [lable_to_fit[label] for label in instances]\n",
    "encoded_labels"
   ]
  },
  {
   "cell_type": "code",
   "execution_count": 3,
   "id": "5e46ee6b",
   "metadata": {},
   "outputs": [
    {
     "data": {
      "text/plain": [
       "['Raunaq', 'Shaon', 'Mahi', 'Kuasha', 'Kuasha', 'Raunaq', 'Shaon']"
      ]
     },
     "execution_count": 3,
     "metadata": {},
     "output_type": "execute_result"
    }
   ],
   "source": [
    "int_to_label = {\n",
    "    index:label for label,index in lable_to_fit.items()\n",
    "}\n",
    "decoded_labels = [int_to_label[index] for index in encoded_labels]\n",
    "decoded_labels"
   ]
  },
  {
   "cell_type": "code",
   "execution_count": 4,
   "id": "cb5b0608",
   "metadata": {},
   "outputs": [],
   "source": [
    "from sklearn.preprocessing import LabelEncoder"
   ]
  },
  {
   "cell_type": "code",
   "execution_count": 8,
   "id": "d11f30f2",
   "metadata": {},
   "outputs": [
    {
     "data": {
      "text/plain": [
       "array([2, 3, 1, 0, 0, 2, 3])"
      ]
     },
     "execution_count": 8,
     "metadata": {},
     "output_type": "execute_result"
    }
   ],
   "source": [
    "classes = ['Shaon','Raunaq','Kuasha','Mahi']\n",
    "instances = ['Raunaq','Shaon','Mahi','Kuasha','Kuasha','Raunaq','Shaon']\n",
    "\n",
    "label_encoder = LabelEncoder()\n",
    "encoded_labels = label_encoder.fit_transform(instances)\n",
    "encoded_labels"
   ]
  },
  {
   "cell_type": "code",
   "execution_count": 9,
   "id": "62200982",
   "metadata": {},
   "outputs": [
    {
     "data": {
      "text/plain": [
       "array(['Raunaq', 'Shaon', 'Mahi', 'Kuasha', 'Kuasha', 'Raunaq', 'Shaon'],\n",
       "      dtype='<U6')"
      ]
     },
     "execution_count": 9,
     "metadata": {},
     "output_type": "execute_result"
    }
   ],
   "source": [
    "original_label = label_encoder.inverse_transform(encoded_labels)\n",
    "original_label"
   ]
  }
 ],
 "metadata": {
  "kernelspec": {
   "display_name": "Python 3",
   "language": "python",
   "name": "python3"
  },
  "language_info": {
   "codemirror_mode": {
    "name": "ipython",
    "version": 3
   },
   "file_extension": ".py",
   "mimetype": "text/x-python",
   "name": "python",
   "nbconvert_exporter": "python",
   "pygments_lexer": "ipython3",
   "version": "3.13.0"
  }
 },
 "nbformat": 4,
 "nbformat_minor": 5
}
